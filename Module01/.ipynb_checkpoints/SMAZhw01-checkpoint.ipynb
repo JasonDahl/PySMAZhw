{
 "cells": [
  {
   "cell_type": "markdown",
   "id": "3bb4a79b-7333-464a-9e07-5841edd5e4ff",
   "metadata": {},
   "source": [
    "## Module 1 Homework\n",
    "\n",
    "In this homework, we're going to download finance data from various sources and make simple calculations/analysis.\n",
    "\n",
    "---"
   ]
  },
  {
   "cell_type": "code",
   "execution_count": 2,
   "id": "3fb754ca-6951-4759-98fb-753153326ff5",
   "metadata": {},
   "outputs": [],
   "source": [
    "# install main library YFinance\n",
    "#!pip install yfinance"
   ]
  },
  {
   "cell_type": "code",
   "execution_count": 34,
   "id": "9566c11a-b02b-46ea-9090-f86e18d29e52",
   "metadata": {},
   "outputs": [],
   "source": [
    "# IMPORTS\n",
    "import numpy as np\n",
    "import pandas as pd\n",
    "import matplotlib.pyplot as plt\n",
    "import matplotlib.ticker as mtick\n",
    "\n",
    "#Fin Data Sources\n",
    "import yfinance as yf\n",
    "import pandas_datareader as pdr\n",
    "\n",
    "#Data viz\n",
    "import plotly.graph_objs as go\n",
    "import plotly.express as px\n",
    "\n",
    "import time\n",
    "from datetime import date\n",
    "import datetime as dt\n"
   ]
  },
  {
   "cell_type": "code",
   "execution_count": 6,
   "id": "fb33df05-c661-49db-936a-6a587dfff36e",
   "metadata": {},
   "outputs": [
    {
     "name": "stdout",
     "output_type": "stream",
     "text": [
      "Year = 2024; month= 4; day=24\n",
      "Period for indexes: 1954-04-24 to 2024-04-24 \n"
     ]
    }
   ],
   "source": [
    "end = date.today()\n",
    "print(f'Year = {end.year}; month= {end.month}; day={end.day}')\n",
    "\n",
    "start = date(year=end.year-70, month=end.month, day=end.day)\n",
    "print(f'Period for indexes: {start} to {end} ')"
   ]
  },
  {
   "cell_type": "markdown",
   "id": "f329d0d9-7920-4d92-9240-7f3294120e71",
   "metadata": {},
   "source": [
    "### Question 1: [Macro] Average growth of GDP in 2023\n",
    "\n",
    "**What is the average growth (in %) of GDP in 2023?**\n",
    "\n",
    "Download the timeseries Real Gross Domestic Product (GDPC1) from FRED (https://fred.stlouisfed.org/series/GDPC1). \n",
    "Calculate year-over-year (YoY) growth rate (that is, divide current value to one 4 quarters ago). Find the average YoY growth in 2023 (average from 4 YoY numbers).\n",
    "Round to 1 digit after the decimal point: e.g. if you get 5.66% growth => you should answer  5.7\n",
    "\n",
    "---"
   ]
  },
  {
   "cell_type": "code",
   "execution_count": 8,
   "id": "528edc31-a93d-48b3-8025-8e9d63995fa7",
   "metadata": {},
   "outputs": [],
   "source": [
    "# Real Gross Domestic Product (GDPC1), Billions of Chained 2012 Dollars, QUARTERLY\n",
    "# https://fred.stlouisfed.org/series/GDPC1\n",
    "gdpc1= pdr.DataReader(\"GDPC1\", \"fred\", start=start)"
   ]
  },
  {
   "cell_type": "code",
   "execution_count": 15,
   "id": "c4a89f47-44df-43cc-a25f-aad657e69f8e",
   "metadata": {
    "scrolled": true
   },
   "outputs": [
    {
     "name": "stdout",
     "output_type": "stream",
     "text": [
      "<class 'pandas.core.frame.DataFrame'>\n",
      "DatetimeIndex: 278 entries, 1954-07-01 to 2023-10-01\n",
      "Data columns (total 3 columns):\n",
      " #   Column        Non-Null Count  Dtype  \n",
      "---  ------        --------------  -----  \n",
      " 0   GDPC1         278 non-null    float64\n",
      " 1   gdpc1_us_yoy  274 non-null    float64\n",
      " 2   gdpc1_us_qoq  277 non-null    float64\n",
      "dtypes: float64(3)\n",
      "memory usage: 8.7 KB\n"
     ]
    }
   ],
   "source": [
    "gdpc1.info()"
   ]
  },
  {
   "cell_type": "code",
   "execution_count": 11,
   "id": "95bd1b5d-8a2c-46ab-b3d1-d6d0e0aafb00",
   "metadata": {
    "scrolled": true
   },
   "outputs": [
    {
     "data": {
      "text/html": [
       "<div>\n",
       "<style scoped>\n",
       "    .dataframe tbody tr th:only-of-type {\n",
       "        vertical-align: middle;\n",
       "    }\n",
       "\n",
       "    .dataframe tbody tr th {\n",
       "        vertical-align: top;\n",
       "    }\n",
       "\n",
       "    .dataframe thead th {\n",
       "        text-align: right;\n",
       "    }\n",
       "</style>\n",
       "<table border=\"1\" class=\"dataframe\">\n",
       "  <thead>\n",
       "    <tr style=\"text-align: right;\">\n",
       "      <th></th>\n",
       "      <th>GDPC1</th>\n",
       "      <th>gdpc1_us_yoy</th>\n",
       "      <th>gdpc1_us_qoq</th>\n",
       "    </tr>\n",
       "    <tr>\n",
       "      <th>DATE</th>\n",
       "      <th></th>\n",
       "      <th></th>\n",
       "      <th></th>\n",
       "    </tr>\n",
       "  </thead>\n",
       "  <tbody>\n",
       "    <tr>\n",
       "      <th>2022-10-01</th>\n",
       "      <td>21989.981</td>\n",
       "      <td>0.006517</td>\n",
       "      <td>0.006354</td>\n",
       "    </tr>\n",
       "    <tr>\n",
       "      <th>2023-01-01</th>\n",
       "      <td>22112.329</td>\n",
       "      <td>0.017179</td>\n",
       "      <td>0.005564</td>\n",
       "    </tr>\n",
       "    <tr>\n",
       "      <th>2023-04-01</th>\n",
       "      <td>22225.350</td>\n",
       "      <td>0.023825</td>\n",
       "      <td>0.005111</td>\n",
       "    </tr>\n",
       "    <tr>\n",
       "      <th>2023-07-01</th>\n",
       "      <td>22490.692</td>\n",
       "      <td>0.029269</td>\n",
       "      <td>0.011939</td>\n",
       "    </tr>\n",
       "    <tr>\n",
       "      <th>2023-10-01</th>\n",
       "      <td>22679.255</td>\n",
       "      <td>0.031345</td>\n",
       "      <td>0.008384</td>\n",
       "    </tr>\n",
       "  </tbody>\n",
       "</table>\n",
       "</div>"
      ],
      "text/plain": [
       "                GDPC1  gdpc1_us_yoy  gdpc1_us_qoq\n",
       "DATE                                             \n",
       "2022-10-01  21989.981      0.006517      0.006354\n",
       "2023-01-01  22112.329      0.017179      0.005564\n",
       "2023-04-01  22225.350      0.023825      0.005111\n",
       "2023-07-01  22490.692      0.029269      0.011939\n",
       "2023-10-01  22679.255      0.031345      0.008384"
      ]
     },
     "execution_count": 11,
     "metadata": {},
     "output_type": "execute_result"
    }
   ],
   "source": [
    "gdpc1['gdpc1_us_yoy'] = gdpc1.GDPC1/gdpc1.GDPC1.shift(4)-1\n",
    "gdpc1['gdpc1_us_qoq'] = gdpc1.GDPC1/gdpc1.GDPC1.shift(1)-1\n",
    "gdpc1.tail()"
   ]
  },
  {
   "cell_type": "code",
   "execution_count": 37,
   "id": "c67681d0-1b94-47f6-817d-06538fb54e94",
   "metadata": {},
   "outputs": [
    {
     "name": "stdout",
     "output_type": "stream",
     "text": [
      "                GDPC1  gdpc1_us_yoy  gdpc1_us_qoq\n",
      "DATE                                             \n",
      "2023-01-01  22112.329      0.017179      0.005564\n",
      "2023-04-01  22225.350      0.023825      0.005111\n",
      "2023-07-01  22490.692      0.029269      0.011939\n",
      "2023-10-01  22679.255      0.031345      0.008384\n"
     ]
    }
   ],
   "source": [
    "gdpavg_2023 = gdpc1[gdpc1.index.year == 2023]\n",
    "print(gdpavg_2023)"
   ]
  },
  {
   "cell_type": "code",
   "execution_count": 38,
   "id": "369752ae-5719-4d9e-92c7-bc38ede0c3c9",
   "metadata": {
    "scrolled": true
   },
   "outputs": [
    {
     "name": "stdout",
     "output_type": "stream",
     "text": [
      "The average YoY growth rate of real GDP in 2023 was: 2.5%\n"
     ]
    }
   ],
   "source": [
    "print(f'The average YoY growth rate of real GDP in 2023 was: {(100*gdpavg_2023.gdpc1_us_yoy.mean()).round(1)}%')"
   ]
  },
  {
   "cell_type": "markdown",
   "id": "c5c2ff3b-7aea-4c6a-9093-b1750ea60feb",
   "metadata": {},
   "source": [
    "# Question 2. [Macro] Inverse \"Treasury Yield\"\n",
    "\n",
    "**Find the min value of (dgs10-dgs2) after since year 2000 (2000-01-01) and write it down as an answer, round to 1 digit after the decimal point.**\n",
    "\n",
    "\n",
    "Download DGS2 and DGS10 interest rates series (https://fred.stlouisfed.org/series/DGS2,\n",
    " https://fred.stlouisfed.org/series/DGS10). Join them together to one dataframe on date (you might need to read about pandas.DataFrame.join()), calculate the difference dgs10-dgs2 daily.\n",
    "\n",
    "(Additional: think about what does the \"inverted yield curve\" mean for the market and investors? do you see the same thing in your country/market of interest? Do you think it can be a good predictive feature for the models?)\n",
    "\n",
    "---"
   ]
  },
  {
   "cell_type": "code",
   "execution_count": 27,
   "id": "f9ce598b-129f-4fd2-87bb-95014ac8f26c",
   "metadata": {},
   "outputs": [
    {
     "data": {
      "text/html": [
       "<div>\n",
       "<style scoped>\n",
       "    .dataframe tbody tr th:only-of-type {\n",
       "        vertical-align: middle;\n",
       "    }\n",
       "\n",
       "    .dataframe tbody tr th {\n",
       "        vertical-align: top;\n",
       "    }\n",
       "\n",
       "    .dataframe thead th {\n",
       "        text-align: right;\n",
       "    }\n",
       "</style>\n",
       "<table border=\"1\" class=\"dataframe\">\n",
       "  <thead>\n",
       "    <tr style=\"text-align: right;\">\n",
       "      <th></th>\n",
       "      <th>DGS10</th>\n",
       "    </tr>\n",
       "    <tr>\n",
       "      <th>DATE</th>\n",
       "      <th></th>\n",
       "    </tr>\n",
       "  </thead>\n",
       "  <tbody>\n",
       "    <tr>\n",
       "      <th>2024-04-16</th>\n",
       "      <td>4.67</td>\n",
       "    </tr>\n",
       "    <tr>\n",
       "      <th>2024-04-17</th>\n",
       "      <td>4.59</td>\n",
       "    </tr>\n",
       "    <tr>\n",
       "      <th>2024-04-18</th>\n",
       "      <td>4.64</td>\n",
       "    </tr>\n",
       "    <tr>\n",
       "      <th>2024-04-19</th>\n",
       "      <td>4.62</td>\n",
       "    </tr>\n",
       "    <tr>\n",
       "      <th>2024-04-22</th>\n",
       "      <td>4.62</td>\n",
       "    </tr>\n",
       "  </tbody>\n",
       "</table>\n",
       "</div>"
      ],
      "text/plain": [
       "            DGS10\n",
       "DATE             \n",
       "2024-04-16   4.67\n",
       "2024-04-17   4.59\n",
       "2024-04-18   4.64\n",
       "2024-04-19   4.62\n",
       "2024-04-22   4.62"
      ]
     },
     "execution_count": 27,
     "metadata": {},
     "output_type": "execute_result"
    }
   ],
   "source": [
    "# https://fred.stlouisfed.org/series/DGS10\n",
    "dgs10 = pdr.DataReader(\"DGS10\", \"fred\", start=start)\n",
    "dgs10.tail()"
   ]
  },
  {
   "cell_type": "code",
   "execution_count": 28,
   "id": "82f9419c-ccc4-4d06-81de-ff0da4a59e1d",
   "metadata": {},
   "outputs": [
    {
     "data": {
      "text/html": [
       "<div>\n",
       "<style scoped>\n",
       "    .dataframe tbody tr th:only-of-type {\n",
       "        vertical-align: middle;\n",
       "    }\n",
       "\n",
       "    .dataframe tbody tr th {\n",
       "        vertical-align: top;\n",
       "    }\n",
       "\n",
       "    .dataframe thead th {\n",
       "        text-align: right;\n",
       "    }\n",
       "</style>\n",
       "<table border=\"1\" class=\"dataframe\">\n",
       "  <thead>\n",
       "    <tr style=\"text-align: right;\">\n",
       "      <th></th>\n",
       "      <th>DGS2</th>\n",
       "    </tr>\n",
       "    <tr>\n",
       "      <th>DATE</th>\n",
       "      <th></th>\n",
       "    </tr>\n",
       "  </thead>\n",
       "  <tbody>\n",
       "    <tr>\n",
       "      <th>2024-04-16</th>\n",
       "      <td>4.97</td>\n",
       "    </tr>\n",
       "    <tr>\n",
       "      <th>2024-04-17</th>\n",
       "      <td>4.93</td>\n",
       "    </tr>\n",
       "    <tr>\n",
       "      <th>2024-04-18</th>\n",
       "      <td>4.98</td>\n",
       "    </tr>\n",
       "    <tr>\n",
       "      <th>2024-04-19</th>\n",
       "      <td>4.97</td>\n",
       "    </tr>\n",
       "    <tr>\n",
       "      <th>2024-04-22</th>\n",
       "      <td>4.97</td>\n",
       "    </tr>\n",
       "  </tbody>\n",
       "</table>\n",
       "</div>"
      ],
      "text/plain": [
       "            DGS2\n",
       "DATE            \n",
       "2024-04-16  4.97\n",
       "2024-04-17  4.93\n",
       "2024-04-18  4.98\n",
       "2024-04-19  4.97\n",
       "2024-04-22  4.97"
      ]
     },
     "execution_count": 28,
     "metadata": {},
     "output_type": "execute_result"
    }
   ],
   "source": [
    "# https://fred.stlouisfed.org/series/DGS2\n",
    "dgs2 = pdr.DataReader(\"DGS2\", \"fred\", start=start)\n",
    "dgs2.tail()"
   ]
  },
  {
   "cell_type": "code",
   "execution_count": 42,
   "id": "3e11bfaa-81b6-468b-a6f1-a755fdac1a21",
   "metadata": {},
   "outputs": [
    {
     "data": {
      "text/html": [
       "<div>\n",
       "<style scoped>\n",
       "    .dataframe tbody tr th:only-of-type {\n",
       "        vertical-align: middle;\n",
       "    }\n",
       "\n",
       "    .dataframe tbody tr th {\n",
       "        vertical-align: top;\n",
       "    }\n",
       "\n",
       "    .dataframe thead th {\n",
       "        text-align: right;\n",
       "    }\n",
       "</style>\n",
       "<table border=\"1\" class=\"dataframe\">\n",
       "  <thead>\n",
       "    <tr style=\"text-align: right;\">\n",
       "      <th></th>\n",
       "      <th>DGS10</th>\n",
       "      <th>DGS2</th>\n",
       "      <th>delta</th>\n",
       "    </tr>\n",
       "    <tr>\n",
       "      <th>DATE</th>\n",
       "      <th></th>\n",
       "      <th></th>\n",
       "      <th></th>\n",
       "    </tr>\n",
       "  </thead>\n",
       "  <tbody>\n",
       "    <tr>\n",
       "      <th>2024-04-16</th>\n",
       "      <td>4.67</td>\n",
       "      <td>4.97</td>\n",
       "      <td>-0.30</td>\n",
       "    </tr>\n",
       "    <tr>\n",
       "      <th>2024-04-17</th>\n",
       "      <td>4.59</td>\n",
       "      <td>4.93</td>\n",
       "      <td>-0.34</td>\n",
       "    </tr>\n",
       "    <tr>\n",
       "      <th>2024-04-18</th>\n",
       "      <td>4.64</td>\n",
       "      <td>4.98</td>\n",
       "      <td>-0.34</td>\n",
       "    </tr>\n",
       "    <tr>\n",
       "      <th>2024-04-19</th>\n",
       "      <td>4.62</td>\n",
       "      <td>4.97</td>\n",
       "      <td>-0.35</td>\n",
       "    </tr>\n",
       "    <tr>\n",
       "      <th>2024-04-22</th>\n",
       "      <td>4.62</td>\n",
       "      <td>4.97</td>\n",
       "      <td>-0.35</td>\n",
       "    </tr>\n",
       "  </tbody>\n",
       "</table>\n",
       "</div>"
      ],
      "text/plain": [
       "            DGS10  DGS2  delta\n",
       "DATE                          \n",
       "2024-04-16   4.67  4.97  -0.30\n",
       "2024-04-17   4.59  4.93  -0.34\n",
       "2024-04-18   4.64  4.98  -0.34\n",
       "2024-04-19   4.62  4.97  -0.35\n",
       "2024-04-22   4.62  4.97  -0.35"
      ]
     },
     "execution_count": 42,
     "metadata": {},
     "output_type": "execute_result"
    }
   ],
   "source": [
    "dgs10_2 = dgs10.copy().join(dgs2)\n",
    "dgs10_2['delta'] = dgs10_2.DGS10-dgs10_2.DGS2\n",
    "dgs10_2.tail()"
   ]
  },
  {
   "cell_type": "code",
   "execution_count": 47,
   "id": "c878602c-cf6c-4063-b4fc-47b1b9a58a27",
   "metadata": {},
   "outputs": [
    {
     "data": {
      "image/png": "[encoded data removed]",
      "text/plain": [
       "<Figure size 2000x600 with 1 Axes>"
      ]
     },
     "metadata": {},
     "output_type": "display_data"
    }
   ],
   "source": [
    "# DGS10 and DGS2\n",
    "fig, ax = plt.subplots(figsize=(20, 6))\n",
    "plt.grid(True)\n",
    "\n",
    "# Plotting area under US potential GDP curve\n",
    "# ax.fill_between(fedfunds.index, fedfunds.FEDFUNDS, color=\"red\", alpha=0.3, label=\"Core CPI index (monthly)\")\n",
    "\n",
    "# # Creating a secondary y-axis for GDP growth percentage\n",
    "# ax2 = ax.twinx()\n",
    "#ax.yaxis.set_major_formatter(mtick.PercentFormatter(1.0))\n",
    "ax.plot(dgs10_2.index, dgs10_2.DGS10, marker=\"o\", label=\"10-Year Market Yield\")\n",
    "ax.plot(dgs10_2.index, dgs10_2.DGS2, marker=\"+\", label=\"2-Year Market Yield\")\n",
    "\n",
    "# Setting labels and title\n",
    "ax.set_xlabel(\"Date\", fontsize=14)\n",
    "ax.set_ylabel(\"Market Yield on U.S. Treasury Securities\", color=\"blue\", fontsize=14)\n",
    "\n",
    "# Adding legend\n",
    "lines, labels = ax.get_legend_handles_labels()\n",
    "ax.legend(lines, labels, loc='upper left')\n",
    "\n",
    "plt.show()"
   ]
  },
  {
   "cell_type": "code",
   "execution_count": 49,
   "id": "5c089c04-4310-41fc-8e42-2bd0aabab9f6",
   "metadata": {},
   "outputs": [
    {
     "data": {
      "image/png": "[encoded data removed]",
      "text/plain": [
       "<Figure size 2000x600 with 1 Axes>"
      ]
     },
     "metadata": {},
     "output_type": "display_data"
    }
   ],
   "source": [
    "# DGS10 and DGS2\n",
    "fig, ax = plt.subplots(figsize=(20, 6))\n",
    "plt.grid(True)\n",
    "\n",
    "# Plotting area under US potential GDP curve\n",
    "# ax.fill_between(fedfunds.index, fedfunds.FEDFUNDS, color=\"red\", alpha=0.3, label=\"Core CPI index (monthly)\")\n",
    "\n",
    "# # Creating a secondary y-axis for GDP growth percentage\n",
    "# ax2 = ax.twinx()\n",
    "#ax.yaxis.set_major_formatter(mtick.PercentFormatter(1.0))\n",
    "ax.plot(dgs10_2[dgs10_2.index.year >= 2000].index, dgs10_2[dgs10_2.index.year >= 2000].delta, marker=\"o\", label=\"DGS10 - DGS2\")\n",
    "\n",
    "# Setting labels and title\n",
    "ax.set_xlabel(\"Date\", fontsize=14)\n",
    "ax.set_ylabel(\"Market Yield Difference on U.S. Treasury Securities (10y-2y)\", color=\"blue\", fontsize=14)\n",
    "\n",
    "# Adding legend\n",
    "lines, labels = ax.get_legend_handles_labels()\n",
    "ax.legend(lines, labels, loc='upper left')\n",
    "\n",
    "plt.show()"
   ]
  },
  {
   "cell_type": "code",
   "execution_count": 44,
   "id": "b95a9c85-1781-4f2f-ac53-099132254c90",
   "metadata": {
    "scrolled": true
   },
   "outputs": [
    {
     "data": {
      "text/html": [
       "<div>\n",
       "<style scoped>\n",
       "    .dataframe tbody tr th:only-of-type {\n",
       "        vertical-align: middle;\n",
       "    }\n",
       "\n",
       "    .dataframe tbody tr th {\n",
       "        vertical-align: top;\n",
       "    }\n",
       "\n",
       "    .dataframe thead th {\n",
       "        text-align: right;\n",
       "    }\n",
       "</style>\n",
       "<table border=\"1\" class=\"dataframe\">\n",
       "  <thead>\n",
       "    <tr style=\"text-align: right;\">\n",
       "      <th></th>\n",
       "      <th>DGS10</th>\n",
       "      <th>DGS2</th>\n",
       "      <th>delta</th>\n",
       "    </tr>\n",
       "    <tr>\n",
       "      <th>DATE</th>\n",
       "      <th></th>\n",
       "      <th></th>\n",
       "      <th></th>\n",
       "    </tr>\n",
       "  </thead>\n",
       "  <tbody>\n",
       "    <tr>\n",
       "      <th>2000-01-03</th>\n",
       "      <td>6.58</td>\n",
       "      <td>6.38</td>\n",
       "      <td>0.20</td>\n",
       "    </tr>\n",
       "    <tr>\n",
       "      <th>2000-01-04</th>\n",
       "      <td>6.49</td>\n",
       "      <td>6.30</td>\n",
       "      <td>0.19</td>\n",
       "    </tr>\n",
       "    <tr>\n",
       "      <th>2000-01-05</th>\n",
       "      <td>6.62</td>\n",
       "      <td>6.38</td>\n",
       "      <td>0.24</td>\n",
       "    </tr>\n",
       "    <tr>\n",
       "      <th>2000-01-06</th>\n",
       "      <td>6.57</td>\n",
       "      <td>6.35</td>\n",
       "      <td>0.22</td>\n",
       "    </tr>\n",
       "    <tr>\n",
       "      <th>2000-01-07</th>\n",
       "      <td>6.52</td>\n",
       "      <td>6.31</td>\n",
       "      <td>0.21</td>\n",
       "    </tr>\n",
       "  </tbody>\n",
       "</table>\n",
       "</div>"
      ],
      "text/plain": [
       "            DGS10  DGS2  delta\n",
       "DATE                          \n",
       "2000-01-03   6.58  6.38   0.20\n",
       "2000-01-04   6.49  6.30   0.19\n",
       "2000-01-05   6.62  6.38   0.24\n",
       "2000-01-06   6.57  6.35   0.22\n",
       "2000-01-07   6.52  6.31   0.21"
      ]
     },
     "execution_count": 44,
     "metadata": {},
     "output_type": "execute_result"
    }
   ],
   "source": [
    "dgs10_2[dgs10_2.index.year >= 2000].head()"
   ]
  },
  {
   "cell_type": "code",
   "execution_count": 46,
   "id": "b3a2d292-ff5a-498a-8c15-88a78839119c",
   "metadata": {
    "scrolled": true
   },
   "outputs": [
    {
     "name": "stdout",
     "output_type": "stream",
     "text": [
      "The min value of (dgs10-dgs2) since year 2000 is: -1.1%\n"
     ]
    }
   ],
   "source": [
    "print(f'The min value of (dgs10-dgs2) since year 2000 is: {dgs10_2[dgs10_2.index.year >= 2000].delta.min().round(1)}%')"
   ]
  },
  {
   "cell_type": "markdown",
   "id": "47e4a931-2dee-41a3-8a23-054766d6718b",
   "metadata": {},
   "source": [
    "### Question 3. [Index] Which Index is better recently?\n",
    "\n",
    "**Compare S&P 500 and IPC Mexico indexes by the 5 year growth and write down the largest value as an answer (%)**\n",
    "\n",
    "Download on Yahoo Finance two daily index prices for S&P 500 (^GSPC, https://finance.yahoo.com/quote/%5EGSPC/) and IPC Mexico (^MXX, https://finance.yahoo.com/quote/%5EMXX/). Compare 5Y growth for both (between 2019-04-09 and 2024-04-09). Select the higher growing index and write down the growth in % (closest integer %). E.g. if ratio end/start was 2.0925 (or growth of 109.25%), you need to write down 109 as your answer.\n",
    "\n",
    "(Additional: think of other indexes and try to download stats and compare the growth? Do create 10Y and 20Y growth stats. What is an average yearly growth rate (CAGR) for each of the indexes you select?)\n",
    "\n",
    "---"
   ]
  },
  {
   "cell_type": "code",
   "execution_count": 50,
   "id": "7cd392e3-a22c-49c4-a22e-422552773f80",
   "metadata": {},
   "outputs": [
    {
     "name": "stderr",
     "output_type": "stream",
     "text": [
      "[*********************100%%**********************]  1 of 1 completed\n"
     ]
    }
   ],
   "source": [
    "# https://finance.yahoo.com/quote/%5EGSPC/\n",
    "# SNP - SNP Real Time Price. Currency in USD\n",
    "snp500_daily_non_delayed = yf.download(tickers = \"^GSPC\",\n",
    "                     period = \"max\",\n",
    "                     interval = \"1d\")"
   ]
  },
  {
   "cell_type": "code",
   "execution_count": 51,
   "id": "ee6a3d21-2b0d-4683-b65b-bc2848899843",
   "metadata": {},
   "outputs": [
    {
     "data": {
      "text/html": [
       "<div>\n",
       "<style scoped>\n",
       "    .dataframe tbody tr th:only-of-type {\n",
       "        vertical-align: middle;\n",
       "    }\n",
       "\n",
       "    .dataframe tbody tr th {\n",
       "        vertical-align: top;\n",
       "    }\n",
       "\n",
       "    .dataframe thead th {\n",
       "        text-align: right;\n",
       "    }\n",
       "</style>\n",
       "<table border=\"1\" class=\"dataframe\">\n",
       "  <thead>\n",
       "    <tr style=\"text-align: right;\">\n",
       "      <th></th>\n",
       "      <th>Open</th>\n",
       "      <th>High</th>\n",
       "      <th>Low</th>\n",
       "      <th>Close</th>\n",
       "      <th>Adj Close</th>\n",
       "      <th>Volume</th>\n",
       "    </tr>\n",
       "    <tr>\n",
       "      <th>Date</th>\n",
       "      <th></th>\n",
       "      <th></th>\n",
       "      <th></th>\n",
       "      <th></th>\n",
       "      <th></th>\n",
       "      <th></th>\n",
       "    </tr>\n",
       "  </thead>\n",
       "  <tbody>\n",
       "    <tr>\n",
       "      <th>2024-04-18</th>\n",
       "      <td>5031.520020</td>\n",
       "      <td>5056.660156</td>\n",
       "      <td>5001.890137</td>\n",
       "      <td>5011.120117</td>\n",
       "      <td>5011.120117</td>\n",
       "      <td>3619760000</td>\n",
       "    </tr>\n",
       "    <tr>\n",
       "      <th>2024-04-19</th>\n",
       "      <td>5005.439941</td>\n",
       "      <td>5019.020020</td>\n",
       "      <td>4953.560059</td>\n",
       "      <td>4967.229980</td>\n",
       "      <td>4967.229980</td>\n",
       "      <td>3878750000</td>\n",
       "    </tr>\n",
       "    <tr>\n",
       "      <th>2024-04-22</th>\n",
       "      <td>4987.330078</td>\n",
       "      <td>5038.839844</td>\n",
       "      <td>4969.399902</td>\n",
       "      <td>5010.600098</td>\n",
       "      <td>5010.600098</td>\n",
       "      <td>3820250000</td>\n",
       "    </tr>\n",
       "    <tr>\n",
       "      <th>2024-04-23</th>\n",
       "      <td>5028.850098</td>\n",
       "      <td>5076.120117</td>\n",
       "      <td>5027.959961</td>\n",
       "      <td>5070.549805</td>\n",
       "      <td>5070.549805</td>\n",
       "      <td>3751400000</td>\n",
       "    </tr>\n",
       "    <tr>\n",
       "      <th>2024-04-24</th>\n",
       "      <td>5084.859863</td>\n",
       "      <td>5089.479980</td>\n",
       "      <td>5047.020020</td>\n",
       "      <td>5066.709961</td>\n",
       "      <td>5066.709961</td>\n",
       "      <td>1667677000</td>\n",
       "    </tr>\n",
       "  </tbody>\n",
       "</table>\n",
       "</div>"
      ],
      "text/plain": [
       "                   Open         High          Low        Close    Adj Close  \\\n",
       "Date                                                                          \n",
       "2024-04-18  5031.520020  5056.660156  5001.890137  5011.120117  5011.120117   \n",
       "2024-04-19  5005.439941  5019.020020  4953.560059  4967.229980  4967.229980   \n",
       "2024-04-22  4987.330078  5038.839844  4969.399902  5010.600098  5010.600098   \n",
       "2024-04-23  5028.850098  5076.120117  5027.959961  5070.549805  5070.549805   \n",
       "2024-04-24  5084.859863  5089.479980  5047.020020  5066.709961  5066.709961   \n",
       "\n",
       "                Volume  \n",
       "Date                    \n",
       "2024-04-18  3619760000  \n",
       "2024-04-19  3878750000  \n",
       "2024-04-22  3820250000  \n",
       "2024-04-23  3751400000  \n",
       "2024-04-24  1667677000  "
      ]
     },
     "execution_count": 51,
     "metadata": {},
     "output_type": "execute_result"
    }
   ],
   "source": [
    "snp500_daily_non_delayed.tail()"
   ]
  },
  {
   "cell_type": "code",
   "execution_count": 52,
   "id": "13c1c914-f81b-4dec-8d88-8635874e81c0",
   "metadata": {},
   "outputs": [
    {
     "name": "stderr",
     "output_type": "stream",
     "text": [
      "[*********************100%%**********************]  1 of 1 completed\n"
     ]
    }
   ],
   "source": [
    "# https://finance.yahoo.com/quote/%5EMXX/\n",
    "# IPC Mexico\n",
    "IPCMex_daily = yf.download(tickers = \"^MXX\",\n",
    "                     period = \"max\",\n",
    "                     interval = \"1d\")"
   ]
  },
  {
   "cell_type": "code",
   "execution_count": 53,
   "id": "f9289712-7d75-4bf9-a931-910d876c813a",
   "metadata": {},
   "outputs": [
    {
     "data": {
      "text/html": [
       "<div>\n",
       "<style scoped>\n",
       "    .dataframe tbody tr th:only-of-type {\n",
       "        vertical-align: middle;\n",
       "    }\n",
       "\n",
       "    .dataframe tbody tr th {\n",
       "        vertical-align: top;\n",
       "    }\n",
       "\n",
       "    .dataframe thead th {\n",
       "        text-align: right;\n",
       "    }\n",
       "</style>\n",
       "<table border=\"1\" class=\"dataframe\">\n",
       "  <thead>\n",
       "    <tr style=\"text-align: right;\">\n",
       "      <th></th>\n",
       "      <th>Open</th>\n",
       "      <th>High</th>\n",
       "      <th>Low</th>\n",
       "      <th>Close</th>\n",
       "      <th>Adj Close</th>\n",
       "      <th>Volume</th>\n",
       "    </tr>\n",
       "    <tr>\n",
       "      <th>Date</th>\n",
       "      <th></th>\n",
       "      <th></th>\n",
       "      <th></th>\n",
       "      <th></th>\n",
       "      <th></th>\n",
       "      <th></th>\n",
       "    </tr>\n",
       "  </thead>\n",
       "  <tbody>\n",
       "    <tr>\n",
       "      <th>2024-04-18</th>\n",
       "      <td>55597.789062</td>\n",
       "      <td>55941.621094</td>\n",
       "      <td>55585.820312</td>\n",
       "      <td>55739.429688</td>\n",
       "      <td>55739.429688</td>\n",
       "      <td>208671900</td>\n",
       "    </tr>\n",
       "    <tr>\n",
       "      <th>2024-04-19</th>\n",
       "      <td>55811.191406</td>\n",
       "      <td>56036.718750</td>\n",
       "      <td>55579.691406</td>\n",
       "      <td>55862.851562</td>\n",
       "      <td>55862.851562</td>\n",
       "      <td>138617600</td>\n",
       "    </tr>\n",
       "    <tr>\n",
       "      <th>2024-04-22</th>\n",
       "      <td>55852.281250</td>\n",
       "      <td>56615.878906</td>\n",
       "      <td>55771.550781</td>\n",
       "      <td>56551.898438</td>\n",
       "      <td>56551.898438</td>\n",
       "      <td>183161700</td>\n",
       "    </tr>\n",
       "    <tr>\n",
       "      <th>2024-04-23</th>\n",
       "      <td>56564.578125</td>\n",
       "      <td>56906.800781</td>\n",
       "      <td>56300.359375</td>\n",
       "      <td>56633.750000</td>\n",
       "      <td>56633.750000</td>\n",
       "      <td>204292000</td>\n",
       "    </tr>\n",
       "    <tr>\n",
       "      <th>2024-04-24</th>\n",
       "      <td>56622.160156</td>\n",
       "      <td>56827.019531</td>\n",
       "      <td>56188.890625</td>\n",
       "      <td>56704.578125</td>\n",
       "      <td>56704.578125</td>\n",
       "      <td>112836040</td>\n",
       "    </tr>\n",
       "  </tbody>\n",
       "</table>\n",
       "</div>"
      ],
      "text/plain": [
       "                    Open          High           Low         Close  \\\n",
       "Date                                                                 \n",
       "2024-04-18  55597.789062  55941.621094  55585.820312  55739.429688   \n",
       "2024-04-19  55811.191406  56036.718750  55579.691406  55862.851562   \n",
       "2024-04-22  55852.281250  56615.878906  55771.550781  56551.898438   \n",
       "2024-04-23  56564.578125  56906.800781  56300.359375  56633.750000   \n",
       "2024-04-24  56622.160156  56827.019531  56188.890625  56704.578125   \n",
       "\n",
       "               Adj Close     Volume  \n",
       "Date                                 \n",
       "2024-04-18  55739.429688  208671900  \n",
       "2024-04-19  55862.851562  138617600  \n",
       "2024-04-22  56551.898438  183161700  \n",
       "2024-04-23  56633.750000  204292000  \n",
       "2024-04-24  56704.578125  112836040  "
      ]
     },
     "execution_count": 53,
     "metadata": {},
     "output_type": "execute_result"
    }
   ],
   "source": [
    "IPCMex_daily.tail()"
   ]
  },
  {
   "cell_type": "code",
   "execution_count": 76,
   "id": "80b3baf1-b7af-4b0d-b7f9-cdaf3e4988f6",
   "metadata": {},
   "outputs": [],
   "source": [
    "snp_5yr = snp500_daily_non_delayed.loc['2024-04-09', 'Close'] - snp500_daily_non_delayed.loc['2019-04-09', 'Close']\n",
    "Ipcmex_5yr = IPCMex_daily.loc['2024-04-09', 'Close'] - IPCMex_daily.loc['2019-04-09', 'Close']"
   ]
  },
  {
   "cell_type": "code",
   "execution_count": 77,
   "id": "0076d722-615a-4bee-8fcc-a168a99095d7",
   "metadata": {},
   "outputs": [
    {
     "name": "stdout",
     "output_type": "stream",
     "text": [
      "5Y growth for S&P 500: 2331.710205078125\n",
      "5Y growth for IPC Mexico: 12419.51953125\n"
     ]
    }
   ],
   "source": [
    "print(f'5Y growth for S&P 500: {snp_5yr}')\n",
    "print(f'5Y growth for IPC Mexico: {Ipcmex_5yr}')"
   ]
  },
  {
   "cell_type": "code",
   "execution_count": 80,
   "id": "bbf6ea4b-2a91-43dd-819a-23f760f7272d",
   "metadata": {},
   "outputs": [
    {
     "name": "stdout",
     "output_type": "stream",
     "text": [
      "5Y growth for IPC Mexico: 28.0%\n"
     ]
    }
   ],
   "source": [
    "ipcmex_5yr_pct  = 100*Ipcmex_5yr / IPCMex_daily.loc['2019-04-09', 'Close']\n",
    "print(f'5Y growth for IPC Mexico: {ipcmex_5yr_pct.round(0)}%')"
   ]
  },
  {
   "cell_type": "markdown",
   "id": "b2533ba2-764e-40e8-98fc-3ac6335d5750",
   "metadata": {},
   "source": [
    "### Question 4. [Stocks OHLCV] 52-weeks range ratio (2023) for the selected stocks\n",
    "\n",
    "\n",
    "**Find the largest range ratio [=(max-min)/max] of Adj.Close prices in 2023**\n",
    "\n",
    "\n",
    "Download the 2023 daily OHLCV data on Yahoo Finance for top6 stocks on earnings (https://companiesmarketcap.com/most-profitable-companies/): 2222.SR,BRK-B, AAPL, MSFT, GOOG, JPM.\n",
    "\n",
    "Here is the example data you should see in Pandas for \"2222.SR\": https://finance.yahoo.com/quote/2222.SR/history\n",
    "\n",
    "Calculate maximum-minimim \"Adj.Close\" price for each stock and divide it by the maximum \"Adj.Close\" value.\n",
    "Round the result to two decimal places (e.g. 0.1575 will be 0.16)\n",
    "\n",
    "(Additional: why this may be important for your research?)\n",
    "\n",
    "---"
   ]
  },
  {
   "cell_type": "code",
   "execution_count": 142,
   "id": "58def82e-048f-450e-a2ab-9124a14e6990",
   "metadata": {},
   "outputs": [],
   "source": [
    "def download_stock_data(ticker_symbols):\n",
    "    # Create an empty dictionary to store the results\n",
    "    stock_data_dict = {}\n",
    "\n",
    "    # Loop through each ticker symbol in the list\n",
    "    for symbol in ticker_symbols:\n",
    "        # Download daily stock data using Yahoo Finance\n",
    "        stock_data = yf.download(tickers=symbol, period=\"max\", interval=\"1d\")\n",
    "\n",
    "        # Create a key using the symbol followed by '_daily'\n",
    "        key = f\"{symbol}\"\n",
    "\n",
    "        # Store the DataFrame in the dictionary\n",
    "        stock_data_dict[key] = stock_data\n",
    "\n",
    "    # Return the dictionary containing all the dataframes\n",
    "    return stock_data_dict\n"
   ]
  },
  {
   "cell_type": "code",
   "execution_count": 143,
   "id": "1284cca6-7dd0-4dd6-be06-3c362c5a342a",
   "metadata": {},
   "outputs": [
    {
     "name": "stderr",
     "output_type": "stream",
     "text": [
      "[*********************100%%**********************]  1 of 1 completed\n",
      "[*********************100%%**********************]  1 of 1 completed\n",
      "[*********************100%%**********************]  1 of 1 completed\n",
      "[*********************100%%**********************]  1 of 1 completed\n",
      "[*********************100%%**********************]  1 of 1 completed\n",
      "[*********************100%%**********************]  1 of 1 completed\n"
     ]
    }
   ],
   "source": [
    "tickers = ['2222.SR', 'BRK-B', 'AAPL', 'MSFT', 'GOOG', 'JPM']\n",
    "top6_daily = download_stock_data(tickers)"
   ]
  },
  {
   "cell_type": "code",
   "execution_count": 144,
   "id": "3536b838-0750-49dd-b36e-fecb4fa1d008",
   "metadata": {},
   "outputs": [
    {
     "data": {
      "text/plain": [
       "dict_keys(['2222.SR', 'BRK-B', 'AAPL', 'MSFT', 'GOOG', 'JPM'])"
      ]
     },
     "execution_count": 144,
     "metadata": {},
     "output_type": "execute_result"
    }
   ],
   "source": [
    "top6_daily.keys()"
   ]
  },
  {
   "cell_type": "code",
   "execution_count": 146,
   "id": "1e3b35d5-eb31-4d2f-86b7-7a43d825b923",
   "metadata": {},
   "outputs": [
    {
     "data": {
      "text/html": [
       "<div>\n",
       "<style scoped>\n",
       "    .dataframe tbody tr th:only-of-type {\n",
       "        vertical-align: middle;\n",
       "    }\n",
       "\n",
       "    .dataframe tbody tr th {\n",
       "        vertical-align: top;\n",
       "    }\n",
       "\n",
       "    .dataframe thead th {\n",
       "        text-align: right;\n",
       "    }\n",
       "</style>\n",
       "<table border=\"1\" class=\"dataframe\">\n",
       "  <thead>\n",
       "    <tr style=\"text-align: right;\">\n",
       "      <th></th>\n",
       "      <th>Open</th>\n",
       "      <th>High</th>\n",
       "      <th>Low</th>\n",
       "      <th>Close</th>\n",
       "      <th>Adj Close</th>\n",
       "      <th>Volume</th>\n",
       "    </tr>\n",
       "    <tr>\n",
       "      <th>Date</th>\n",
       "      <th></th>\n",
       "      <th></th>\n",
       "      <th></th>\n",
       "      <th></th>\n",
       "      <th></th>\n",
       "      <th></th>\n",
       "    </tr>\n",
       "  </thead>\n",
       "  <tbody>\n",
       "    <tr>\n",
       "      <th>2024-04-18</th>\n",
       "      <td>30.000000</td>\n",
       "      <td>30.049999</td>\n",
       "      <td>29.85</td>\n",
       "      <td>29.900000</td>\n",
       "      <td>29.900000</td>\n",
       "      <td>7985988</td>\n",
       "    </tr>\n",
       "    <tr>\n",
       "      <th>2024-04-21</th>\n",
       "      <td>30.000000</td>\n",
       "      <td>30.200001</td>\n",
       "      <td>29.90</td>\n",
       "      <td>30.049999</td>\n",
       "      <td>30.049999</td>\n",
       "      <td>8988623</td>\n",
       "    </tr>\n",
       "    <tr>\n",
       "      <th>2024-04-22</th>\n",
       "      <td>30.100000</td>\n",
       "      <td>30.299999</td>\n",
       "      <td>30.00</td>\n",
       "      <td>30.150000</td>\n",
       "      <td>30.150000</td>\n",
       "      <td>12033500</td>\n",
       "    </tr>\n",
       "    <tr>\n",
       "      <th>2024-04-23</th>\n",
       "      <td>30.200001</td>\n",
       "      <td>30.299999</td>\n",
       "      <td>30.00</td>\n",
       "      <td>30.100000</td>\n",
       "      <td>30.100000</td>\n",
       "      <td>6951340</td>\n",
       "    </tr>\n",
       "    <tr>\n",
       "      <th>2024-04-24</th>\n",
       "      <td>30.100000</td>\n",
       "      <td>30.200001</td>\n",
       "      <td>30.00</td>\n",
       "      <td>30.100000</td>\n",
       "      <td>30.100000</td>\n",
       "      <td>9461809</td>\n",
       "    </tr>\n",
       "  </tbody>\n",
       "</table>\n",
       "</div>"
      ],
      "text/plain": [
       "                 Open       High    Low      Close  Adj Close    Volume\n",
       "Date                                                                   \n",
       "2024-04-18  30.000000  30.049999  29.85  29.900000  29.900000   7985988\n",
       "2024-04-21  30.000000  30.200001  29.90  30.049999  30.049999   8988623\n",
       "2024-04-22  30.100000  30.299999  30.00  30.150000  30.150000  12033500\n",
       "2024-04-23  30.200001  30.299999  30.00  30.100000  30.100000   6951340\n",
       "2024-04-24  30.100000  30.200001  30.00  30.100000  30.100000   9461809"
      ]
     },
     "execution_count": 146,
     "metadata": {},
     "output_type": "execute_result"
    }
   ],
   "source": [
    "top6_daily['2222.SR'].tail()"
   ]
  },
  {
   "cell_type": "code",
   "execution_count": 147,
   "id": "683c634d-f068-4205-ba16-e6019e2abe4b",
   "metadata": {},
   "outputs": [],
   "source": [
    "def calculate_yearly_range_ratios(stock_dict, year):\n",
    "    stock_ratios_dict = {}\n",
    "    \n",
    "    for key in stock_dict.keys():\n",
    "        # Create a key using the symbol followed by '_daily'\n",
    "        ratio_key = f\"{key}_{year}_ratio\"\n",
    "        \n",
    "        daily_frame = stock_dict[key]\n",
    "        yearly_ratio = (daily_frame[daily_frame.index.year == year]['Adj Close'].max() - \n",
    "                        daily_frame[daily_frame.index.year == year]['Adj Close'].min()) / \\\n",
    "                        daily_frame[daily_frame.index.year == year]['Adj Close'].max()\n",
    "\n",
    "        # Store the DataFrame in the dictionary\n",
    "        stock_ratios_dict[ratio_key] = yearly_ratio.round(2)\n",
    "\n",
    "    # Return the dictionary containing all the dataframes\n",
    "    return stock_ratios_dict\n"
   ]
  },
  {
   "cell_type": "code",
   "execution_count": 148,
   "id": "742f88c5-5b12-4170-869e-12f3ba609ede",
   "metadata": {},
   "outputs": [
    {
     "data": {
      "text/plain": [
       "{'2222.SR_2023_ratio': 0.21,\n",
       " 'BRK-B_2023_ratio': 0.21,\n",
       " 'AAPL_2023_ratio': 0.37,\n",
       " 'MSFT_2023_ratio': 0.42,\n",
       " 'GOOG_2023_ratio': 0.39,\n",
       " 'JPM_2023_ratio': 0.28}"
      ]
     },
     "execution_count": 148,
     "metadata": {},
     "output_type": "execute_result"
    }
   ],
   "source": [
    "calculate_yearly_range_ratios(top6_daily, 2023)"
   ]
  },
  {
   "cell_type": "markdown",
   "id": "00e265a1-8a2e-45e4-b0be-8333ad9dc4ca",
   "metadata": {},
   "source": [
    "### Question 5. [Stocks] Dividend Yield\n",
    "**Find the largest dividend yield for the same set of stocks**\n",
    "\n",
    "Use the same list of companies (2222.SR,BRK-B, AAPL, MSFT, GOOG, JPM) and download all dividends paid in 2023.\n",
    "You can use `get_actions()` method or `.dividends` field in yfinance library (https://github.com/ranaroussi/yfinance?tab=readme-ov-file#quick-start)\n",
    "\n",
    "Sum up all dividends paid in 2023 per company and divide each value by the closing price (Adj.Close) at the last trading day of the year.\n",
    "\n",
    "Find the maximum value in % and round to 1 digit after the decimal point. (E.g., if you obtained $1.25 dividends paid and the end year stock price is $100, the dividend yield is 1.25% -- and your answer should be equal to 1.3)\n",
    "\n",
    "---"
   ]
  },
  {
   "cell_type": "code",
   "execution_count": 149,
   "id": "ebea364c-6c36-4440-be29-50e37d76715b",
   "metadata": {},
   "outputs": [],
   "source": [
    "def download_stock_actions(ticker_symbols):\n",
    "    # Create an empty dictionary to store the results\n",
    "    stock_action_dict = {}\n",
    "\n",
    "    # Loop through each ticker symbol in the list\n",
    "    for symbol in ticker_symbols:\n",
    "        # Download daily stock data using Yahoo Finance\n",
    "        ticker = yf.Ticker(symbol)\n",
    "\n",
    "        # Create a key using the symbol followed by '_daily'\n",
    "        key = f\"{symbol}_actions\"\n",
    "\n",
    "        # Store the DataFrame in the dictionary\n",
    "        stock_action_dict[key] = ticker.get_actions()\n",
    "\n",
    "    # Return the dictionary containing all the dataframes\n",
    "    return stock_action_dict"
   ]
  },
  {
   "cell_type": "code",
   "execution_count": 150,
   "id": "68fef5f4-516f-4db5-92d6-7587ae2c5ac9",
   "metadata": {},
   "outputs": [],
   "source": [
    "top6_actions = download_stock_actions(tickers)"
   ]
  },
  {
   "cell_type": "code",
   "execution_count": 151,
   "id": "67f3f277-0f2a-4402-9f3a-7e4d84b5075b",
   "metadata": {},
   "outputs": [
    {
     "data": {
      "text/plain": [
       "dict_keys(['2222.SR_actions', 'BRK-B_actions', 'AAPL_actions', 'MSFT_actions', 'GOOG_actions', 'JPM_actions'])"
      ]
     },
     "execution_count": 151,
     "metadata": {},
     "output_type": "execute_result"
    }
   ],
   "source": [
    "top6_actions.keys()"
   ]
  },
  {
   "cell_type": "code",
   "execution_count": 152,
   "id": "72008ca0-825c-4c79-a14a-3ff5b2dff8ed",
   "metadata": {},
   "outputs": [
    {
     "data": {
      "text/html": [
       "<div>\n",
       "<style scoped>\n",
       "    .dataframe tbody tr th:only-of-type {\n",
       "        vertical-align: middle;\n",
       "    }\n",
       "\n",
       "    .dataframe tbody tr th {\n",
       "        vertical-align: top;\n",
       "    }\n",
       "\n",
       "    .dataframe thead th {\n",
       "        text-align: right;\n",
       "    }\n",
       "</style>\n",
       "<table border=\"1\" class=\"dataframe\">\n",
       "  <thead>\n",
       "    <tr style=\"text-align: right;\">\n",
       "      <th></th>\n",
       "      <th>Dividends</th>\n",
       "      <th>Stock Splits</th>\n",
       "    </tr>\n",
       "    <tr>\n",
       "      <th>Date</th>\n",
       "      <th></th>\n",
       "      <th></th>\n",
       "    </tr>\n",
       "  </thead>\n",
       "  <tbody>\n",
       "    <tr>\n",
       "      <th>2023-04-05 00:00:00-04:00</th>\n",
       "      <td>1.00</td>\n",
       "      <td>0.0</td>\n",
       "    </tr>\n",
       "    <tr>\n",
       "      <th>2023-07-05 00:00:00-04:00</th>\n",
       "      <td>1.00</td>\n",
       "      <td>0.0</td>\n",
       "    </tr>\n",
       "    <tr>\n",
       "      <th>2023-10-05 00:00:00-04:00</th>\n",
       "      <td>1.05</td>\n",
       "      <td>0.0</td>\n",
       "    </tr>\n",
       "    <tr>\n",
       "      <th>2024-01-04 00:00:00-05:00</th>\n",
       "      <td>1.05</td>\n",
       "      <td>0.0</td>\n",
       "    </tr>\n",
       "    <tr>\n",
       "      <th>2024-04-04 00:00:00-04:00</th>\n",
       "      <td>1.15</td>\n",
       "      <td>0.0</td>\n",
       "    </tr>\n",
       "  </tbody>\n",
       "</table>\n",
       "</div>"
      ],
      "text/plain": [
       "                           Dividends  Stock Splits\n",
       "Date                                              \n",
       "2023-04-05 00:00:00-04:00       1.00           0.0\n",
       "2023-07-05 00:00:00-04:00       1.00           0.0\n",
       "2023-10-05 00:00:00-04:00       1.05           0.0\n",
       "2024-01-04 00:00:00-05:00       1.05           0.0\n",
       "2024-04-04 00:00:00-04:00       1.15           0.0"
      ]
     },
     "execution_count": 152,
     "metadata": {},
     "output_type": "execute_result"
    }
   ],
   "source": [
    "top6_actions['JPM_actions'].tail()"
   ]
  },
  {
   "cell_type": "code",
   "execution_count": null,
   "id": "cb8adc70-719d-4e83-959d-ee756e56dd96",
   "metadata": {},
   "outputs": [],
   "source": [
    "def calculate_dividend_yield(symbols, year):\n",
    "    "
   ]
  },
  {
   "cell_type": "markdown",
   "id": "2878185f-6f90-4360-971c-6c6893dd378c",
   "metadata": {},
   "source": [
    "### Question 6. [Exploratory] Investigate new metrics\n",
    "\n",
    "**Free text answer**\n",
    "\n",
    "Download and explore a few additional metrics or time series that might be valuable for your project and write down why (briefly).\n",
    "\n",
    "---"
   ]
  },
  {
   "cell_type": "code",
   "execution_count": null,
   "id": "6ef84e4d-360d-46b6-89a2-20e98c5f817f",
   "metadata": {},
   "outputs": [],
   "source": []
  },
  {
   "cell_type": "markdown",
   "id": "1e514283-b520-43f7-ae28-a4aa5022685c",
   "metadata": {
    "jp-MarkdownHeadingCollapsed": true
   },
   "source": [
    "### Question 7. [Exploratory] Time-driven strategy description around earnings releases\n",
    "\n",
    "**Free text answer**\n",
    "\n",
    "Explore earning dates for the whole month of April - e.g. using YahooFinance earnings calendar (https://finance.yahoo.com/calendar/earnings?from=2024-04-21&to=2024-04-27&day=2024-04-23). Compare with the previous closed earnings (e.g., recent dates with full data https://finance.yahoo.com/calendar/earnings?from=2024-04-07&to=2024-04-13&day=2024-04-08). \n",
    "\n",
    "Describe an analytical strategy/idea (you're not required to implement it) to select a subset companies of interest based on the future events data.\n"
   ]
  },
  {
   "cell_type": "code",
   "execution_count": null,
   "id": "4ce8d8ac-fde6-4fcb-9033-c65be3e1966e",
   "metadata": {},
   "outputs": [],
   "source": []
  }
 ],
 "metadata": {
  "kernelspec": {
   "display_name": "Python 3 (ipykernel)",
   "language": "python",
   "name": "python3"
  },
  "language_info": {
   "codemirror_mode": {
    "name": "ipython",
    "version": 3
   },
   "file_extension": ".py",
   "mimetype": "text/x-python",
   "name": "python",
   "nbconvert_exporter": "python",
   "pygments_lexer": "ipython3",
   "version": "3.10.13"
  }
 },
 "nbformat": 4,
 "nbformat_minor": 5
}
